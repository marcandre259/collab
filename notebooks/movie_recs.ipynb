{
 "cells": [
  {
   "cell_type": "code",
   "execution_count": 30,
   "metadata": {},
   "outputs": [],
   "source": [
    "import fastai\n",
    "from fastai import learner\n",
    "from fastai.losses import MSELossFlat\n",
    "import torch\n",
    "from torch import nn\n",
    "from torch.utils.data import Dataset, DataLoader\n",
    "from fastai.data.core import DataLoaders\n",
    "import numpy as np\n",
    "from sklearn.model_selection import train_test_split\n",
    "\n",
    "import polars as pl"
   ]
  },
  {
   "cell_type": "code",
   "execution_count": 31,
   "metadata": {},
   "outputs": [
    {
     "data": {
      "text/html": [
       "<div><style>\n",
       ".dataframe > thead > tr,\n",
       ".dataframe > tbody > tr {\n",
       "  text-align: right;\n",
       "  white-space: pre-wrap;\n",
       "}\n",
       "</style>\n",
       "<small>shape: (5, 4)</small><table border=\"1\" class=\"dataframe\"><thead><tr><th>movieId</th><th>movie_id</th><th>title</th><th>rating</th></tr><tr><td>i64</td><td>i64</td><td>str</td><td>i64</td></tr></thead><tbody><tr><td>1</td><td>0</td><td>&quot;Toy Story (1995)&quot;</td><td>null</td></tr><tr><td>2</td><td>1</td><td>&quot;Jumanji (1995)&quot;</td><td>null</td></tr><tr><td>3</td><td>2</td><td>&quot;Grumpier Old Men (1995)&quot;</td><td>null</td></tr><tr><td>4</td><td>3</td><td>&quot;Waiting to Exhale (1995)&quot;</td><td>null</td></tr><tr><td>5</td><td>4</td><td>&quot;Father of the Bride Part II (1…</td><td>null</td></tr></tbody></table></div>"
      ],
      "text/plain": [
       "shape: (5, 4)\n",
       "┌─────────┬──────────┬─────────────────────────────────┬────────┐\n",
       "│ movieId ┆ movie_id ┆ title                           ┆ rating │\n",
       "│ ---     ┆ ---      ┆ ---                             ┆ ---    │\n",
       "│ i64     ┆ i64      ┆ str                             ┆ i64    │\n",
       "╞═════════╪══════════╪═════════════════════════════════╪════════╡\n",
       "│ 1       ┆ 0        ┆ Toy Story (1995)                ┆ null   │\n",
       "│ 2       ┆ 1        ┆ Jumanji (1995)                  ┆ null   │\n",
       "│ 3       ┆ 2        ┆ Grumpier Old Men (1995)         ┆ null   │\n",
       "│ 4       ┆ 3        ┆ Waiting to Exhale (1995)        ┆ null   │\n",
       "│ 5       ┆ 4        ┆ Father of the Bride Part II (1… ┆ null   │\n",
       "└─────────┴──────────┴─────────────────────────────────┴────────┘"
      ]
     },
     "execution_count": 31,
     "metadata": {},
     "output_type": "execute_result"
    }
   ],
   "source": [
    "df_movies = pl.read_excel(\"../data/movies.xlsx\")\n",
    "df_movies = df_movies.sort(\"movie_id\")\n",
    "df_movies.head()"
   ]
  },
  {
   "cell_type": "code",
   "execution_count": 32,
   "metadata": {},
   "outputs": [],
   "source": [
    "movie_embds = np.load(\"../data/movie_embeddings.npy\")"
   ]
  },
  {
   "cell_type": "code",
   "execution_count": 33,
   "metadata": {},
   "outputs": [
    {
     "data": {
      "text/html": [
       "<div><style>\n",
       ".dataframe > thead > tr,\n",
       ".dataframe > tbody > tr {\n",
       "  text-align: right;\n",
       "  white-space: pre-wrap;\n",
       "}\n",
       "</style>\n",
       "<small>shape: (5, 5)</small><table border=\"1\" class=\"dataframe\"><thead><tr><th>movieId</th><th>movie_id</th><th>title</th><th>rating</th><th>weight</th></tr><tr><td>i64</td><td>i64</td><td>str</td><td>i64</td><td>f64</td></tr></thead><tbody><tr><td>1</td><td>0</td><td>&quot;Toy Story (1995)&quot;</td><td>null</td><td>null</td></tr><tr><td>2</td><td>1</td><td>&quot;Jumanji (1995)&quot;</td><td>null</td><td>null</td></tr><tr><td>3</td><td>2</td><td>&quot;Grumpier Old Men (1995)&quot;</td><td>null</td><td>null</td></tr><tr><td>4</td><td>3</td><td>&quot;Waiting to Exhale (1995)&quot;</td><td>null</td><td>null</td></tr><tr><td>5</td><td>4</td><td>&quot;Father of the Bride Part II (1…</td><td>null</td><td>null</td></tr></tbody></table></div>"
      ],
      "text/plain": [
       "shape: (5, 5)\n",
       "┌─────────┬──────────┬─────────────────────────────────┬────────┬────────┐\n",
       "│ movieId ┆ movie_id ┆ title                           ┆ rating ┆ weight │\n",
       "│ ---     ┆ ---      ┆ ---                             ┆ ---    ┆ ---    │\n",
       "│ i64     ┆ i64      ┆ str                             ┆ i64    ┆ f64    │\n",
       "╞═════════╪══════════╪═════════════════════════════════╪════════╪════════╡\n",
       "│ 1       ┆ 0        ┆ Toy Story (1995)                ┆ null   ┆ null   │\n",
       "│ 2       ┆ 1        ┆ Jumanji (1995)                  ┆ null   ┆ null   │\n",
       "│ 3       ┆ 2        ┆ Grumpier Old Men (1995)         ┆ null   ┆ null   │\n",
       "│ 4       ┆ 3        ┆ Waiting to Exhale (1995)        ┆ null   ┆ null   │\n",
       "│ 5       ┆ 4        ┆ Father of the Bride Part II (1… ┆ null   ┆ null   │\n",
       "└─────────┴──────────┴─────────────────────────────────┴────────┴────────┘"
      ]
     },
     "execution_count": 33,
     "metadata": {},
     "output_type": "execute_result"
    }
   ],
   "source": [
    "# Adjust rating to get weight\n",
    "df_movies = df_movies.with_columns((pl.col(\"rating\") - 2.5).alias(\"weight\"))\n",
    "\n",
    "df_movies.head()"
   ]
  },
  {
   "cell_type": "code",
   "execution_count": 34,
   "metadata": {},
   "outputs": [],
   "source": [
    "mask = df_movies[\"weight\"].is_null().not_().to_numpy()"
   ]
  },
  {
   "cell_type": "code",
   "execution_count": 37,
   "metadata": {},
   "outputs": [],
   "source": [
    "personal_embds = (\n",
    "    movie_embds[mask, :] * df_movies.filter(mask)[\"weight\"].to_numpy().reshape(-1, 1)\n",
    ").sum(axis=0)\n",
    "\n",
    "personal_embds = personal_embds / personal_embds.sum()"
   ]
  },
  {
   "cell_type": "code",
   "execution_count": 45,
   "metadata": {},
   "outputs": [
    {
     "data": {
      "text/plain": [
       "array([9395, 9598, 1462, 8121, 9299, 2677, 1278, 7706, 2450, 8347])"
      ]
     },
     "execution_count": 45,
     "metadata": {},
     "output_type": "execute_result"
    }
   ],
   "source": [
    "pref_order = np.argsort(-1 * np.matmul(movie_embds, personal_embds.reshape(-1, 1)).flatten())\n",
    "\n",
    "pref_order[:10]"
   ]
  },
  {
   "cell_type": "code",
   "execution_count": 46,
   "metadata": {},
   "outputs": [
    {
     "data": {
      "text/html": [
       "<div><style>\n",
       ".dataframe > thead > tr,\n",
       ".dataframe > tbody > tr {\n",
       "  text-align: right;\n",
       "  white-space: pre-wrap;\n",
       "}\n",
       "</style>\n",
       "<small>shape: (10, 5)</small><table border=\"1\" class=\"dataframe\"><thead><tr><th>movieId</th><th>movie_id</th><th>title</th><th>rating</th><th>weight</th></tr><tr><td>i64</td><td>i64</td><td>str</td><td>i64</td><td>f64</td></tr></thead><tbody><tr><td>1487</td><td>1278</td><td>&quot;Selena (1997)&quot;</td><td>null</td><td>null</td></tr><tr><td>1711</td><td>1462</td><td>&quot;Midnight in the Garden of Good…</td><td>null</td><td>null</td></tr><tr><td>2872</td><td>2450</td><td>&quot;Excalibur (1981)&quot;</td><td>null</td><td>null</td></tr><tr><td>3120</td><td>2677</td><td>&quot;Distinguished Gentleman, The (…</td><td>null</td><td>null</td></tr><tr><td>84601</td><td>7706</td><td>&quot;Unknown (2011)&quot;</td><td>null</td><td>null</td></tr><tr><td>55232</td><td>8121</td><td>&quot;Resident Evil: Extinction (200…</td><td>null</td><td>null</td></tr><tr><td>122924</td><td>8347</td><td>&quot;X-Men: Apocalypse (2016)&quot;</td><td>null</td><td>null</td></tr><tr><td>95449</td><td>9299</td><td>&quot;Magic Mike (2012)&quot;</td><td>null</td><td>null</td></tr><tr><td>128975</td><td>9395</td><td>&quot;Hot Tub Time Machine 2 (2015)&quot;</td><td>null</td><td>null</td></tr><tr><td>32019</td><td>9598</td><td>&quot;Be Cool (2005)&quot;</td><td>null</td><td>null</td></tr></tbody></table></div>"
      ],
      "text/plain": [
       "shape: (10, 5)\n",
       "┌─────────┬──────────┬─────────────────────────────────┬────────┬────────┐\n",
       "│ movieId ┆ movie_id ┆ title                           ┆ rating ┆ weight │\n",
       "│ ---     ┆ ---      ┆ ---                             ┆ ---    ┆ ---    │\n",
       "│ i64     ┆ i64      ┆ str                             ┆ i64    ┆ f64    │\n",
       "╞═════════╪══════════╪═════════════════════════════════╪════════╪════════╡\n",
       "│ 1487    ┆ 1278     ┆ Selena (1997)                   ┆ null   ┆ null   │\n",
       "│ 1711    ┆ 1462     ┆ Midnight in the Garden of Good… ┆ null   ┆ null   │\n",
       "│ 2872    ┆ 2450     ┆ Excalibur (1981)                ┆ null   ┆ null   │\n",
       "│ 3120    ┆ 2677     ┆ Distinguished Gentleman, The (… ┆ null   ┆ null   │\n",
       "│ 84601   ┆ 7706     ┆ Unknown (2011)                  ┆ null   ┆ null   │\n",
       "│ 55232   ┆ 8121     ┆ Resident Evil: Extinction (200… ┆ null   ┆ null   │\n",
       "│ 122924  ┆ 8347     ┆ X-Men: Apocalypse (2016)        ┆ null   ┆ null   │\n",
       "│ 95449   ┆ 9299     ┆ Magic Mike (2012)               ┆ null   ┆ null   │\n",
       "│ 128975  ┆ 9395     ┆ Hot Tub Time Machine 2 (2015)   ┆ null   ┆ null   │\n",
       "│ 32019   ┆ 9598     ┆ Be Cool (2005)                  ┆ null   ┆ null   │\n",
       "└─────────┴──────────┴─────────────────────────────────┴────────┴────────┘"
      ]
     },
     "execution_count": 46,
     "metadata": {},
     "output_type": "execute_result"
    }
   ],
   "source": [
    "df_movies.filter(pl.col(\"movie_id\").is_in(pref_order[:10]))"
   ]
  },
  {
   "cell_type": "code",
   "execution_count": null,
   "metadata": {},
   "outputs": [],
   "source": []
  }
 ],
 "metadata": {
  "kernelspec": {
   "display_name": "adhocs",
   "language": "python",
   "name": "python3"
  },
  "language_info": {
   "codemirror_mode": {
    "name": "ipython",
    "version": 3
   },
   "file_extension": ".py",
   "mimetype": "text/x-python",
   "name": "python",
   "nbconvert_exporter": "python",
   "pygments_lexer": "ipython3",
   "version": "3.12.4"
  }
 },
 "nbformat": 4,
 "nbformat_minor": 2
}
