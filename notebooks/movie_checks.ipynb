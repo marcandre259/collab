{
 "cells": [
  {
   "cell_type": "code",
   "execution_count": 12,
   "metadata": {},
   "outputs": [],
   "source": [
    "import fastai\n",
    "from fastai import learner\n",
    "from fastai.losses import MSELossFlat\n",
    "import torch\n",
    "from torch import nn\n",
    "from torch.utils.data import Dataset, DataLoader\n",
    "from fastai.data.core import DataLoaders\n",
    "import numpy as np\n",
    "from sklearn.model_selection import train_test_split\n",
    "\n",
    "import polars as pl"
   ]
  },
  {
   "cell_type": "code",
   "execution_count": 2,
   "metadata": {},
   "outputs": [
    {
     "data": {
      "text/html": [
       "<div><style>\n",
       ".dataframe > thead > tr,\n",
       ".dataframe > tbody > tr {\n",
       "  text-align: right;\n",
       "  white-space: pre-wrap;\n",
       "}\n",
       "</style>\n",
       "<small>shape: (5, 4)</small><table border=\"1\" class=\"dataframe\"><thead><tr><th>userId</th><th>movieId</th><th>rating</th><th>timestamp</th></tr><tr><td>i64</td><td>i64</td><td>f64</td><td>i64</td></tr></thead><tbody><tr><td>1</td><td>1</td><td>4.0</td><td>964982703</td></tr><tr><td>1</td><td>3</td><td>4.0</td><td>964981247</td></tr><tr><td>1</td><td>6</td><td>4.0</td><td>964982224</td></tr><tr><td>1</td><td>47</td><td>5.0</td><td>964983815</td></tr><tr><td>1</td><td>50</td><td>5.0</td><td>964982931</td></tr></tbody></table></div>"
      ],
      "text/plain": [
       "shape: (5, 4)\n",
       "┌────────┬─────────┬────────┬───────────┐\n",
       "│ userId ┆ movieId ┆ rating ┆ timestamp │\n",
       "│ ---    ┆ ---     ┆ ---    ┆ ---       │\n",
       "│ i64    ┆ i64     ┆ f64    ┆ i64       │\n",
       "╞════════╪═════════╪════════╪═══════════╡\n",
       "│ 1      ┆ 1       ┆ 4.0    ┆ 964982703 │\n",
       "│ 1      ┆ 3       ┆ 4.0    ┆ 964981247 │\n",
       "│ 1      ┆ 6       ┆ 4.0    ┆ 964982224 │\n",
       "│ 1      ┆ 47      ┆ 5.0    ┆ 964983815 │\n",
       "│ 1      ┆ 50      ┆ 5.0    ┆ 964982931 │\n",
       "└────────┴─────────┴────────┴───────────┘"
      ]
     },
     "execution_count": 2,
     "metadata": {},
     "output_type": "execute_result"
    }
   ],
   "source": [
    "df_ratings = pl.read_csv(\"../data/ml-latest-small/ratings.csv\")\n",
    "\n",
    "df_ratings.head()"
   ]
  },
  {
   "cell_type": "code",
   "execution_count": 3,
   "metadata": {},
   "outputs": [
    {
     "data": {
      "text/plain": [
       "Embedding(5, 3)"
      ]
     },
     "execution_count": 3,
     "metadata": {},
     "output_type": "execute_result"
    }
   ],
   "source": [
    "embd = nn.Embedding(5, 3)\n",
    "\n",
    "embd"
   ]
  },
  {
   "cell_type": "code",
   "execution_count": 4,
   "metadata": {},
   "outputs": [
    {
     "data": {
      "text/plain": [
       "tensor([[ 0.4143, -0.7636, -1.4355],\n",
       "        [-0.3490, -2.3625,  0.1801]], grad_fn=<EmbeddingBackward0>)"
      ]
     },
     "execution_count": 4,
     "metadata": {},
     "output_type": "execute_result"
    }
   ],
   "source": [
    "idx = torch.tensor([1, 2], dtype=torch.int32)\n",
    "\n",
    "embd(idx)"
   ]
  },
  {
   "cell_type": "code",
   "execution_count": 5,
   "metadata": {},
   "outputs": [
    {
     "data": {
      "text/plain": [
       "tensor([[2.8154, 1.4009],\n",
       "        [1.4009, 5.7356]], grad_fn=<MmBackward0>)"
      ]
     },
     "execution_count": 5,
     "metadata": {},
     "output_type": "execute_result"
    }
   ],
   "source": [
    "torch.matmul(embd(idx), embd(idx).T)"
   ]
  },
  {
   "cell_type": "code",
   "execution_count": 6,
   "metadata": {},
   "outputs": [],
   "source": [
    "class PolarsDataset(Dataset):\n",
    "    def __init__(self, dataframe):\n",
    "        self.data = dataframe.to_numpy()\n",
    "        self.features = torch.FloatTensor(self.data[:, :-1])\n",
    "        self.labels = torch.FloatTensor(self.data[:, -1])\n",
    "\n",
    "    def __len__(self):\n",
    "        return len(self.data)\n",
    "\n",
    "    def __getitem__(self, idx):\n",
    "        return self.features[idx], self.labels[idx]"
   ]
  },
  {
   "cell_type": "code",
   "execution_count": 7,
   "metadata": {},
   "outputs": [
    {
     "data": {
      "text/html": [
       "<div><style>\n",
       ".dataframe > thead > tr,\n",
       ".dataframe > tbody > tr {\n",
       "  text-align: right;\n",
       "  white-space: pre-wrap;\n",
       "}\n",
       "</style>\n",
       "<small>shape: (5, 3)</small><table border=\"1\" class=\"dataframe\"><thead><tr><th>userId</th><th>movieId</th><th>rating</th></tr><tr><td>i64</td><td>i64</td><td>f64</td></tr></thead><tbody><tr><td>1</td><td>1</td><td>4.0</td></tr><tr><td>1</td><td>3</td><td>4.0</td></tr><tr><td>1</td><td>6</td><td>4.0</td></tr><tr><td>1</td><td>47</td><td>5.0</td></tr><tr><td>1</td><td>50</td><td>5.0</td></tr></tbody></table></div>"
      ],
      "text/plain": [
       "shape: (5, 3)\n",
       "┌────────┬─────────┬────────┐\n",
       "│ userId ┆ movieId ┆ rating │\n",
       "│ ---    ┆ ---     ┆ ---    │\n",
       "│ i64    ┆ i64     ┆ f64    │\n",
       "╞════════╪═════════╪════════╡\n",
       "│ 1      ┆ 1       ┆ 4.0    │\n",
       "│ 1      ┆ 3       ┆ 4.0    │\n",
       "│ 1      ┆ 6       ┆ 4.0    │\n",
       "│ 1      ┆ 47      ┆ 5.0    │\n",
       "│ 1      ┆ 50      ┆ 5.0    │\n",
       "└────────┴─────────┴────────┘"
      ]
     },
     "execution_count": 7,
     "metadata": {},
     "output_type": "execute_result"
    }
   ],
   "source": [
    "df_ratings = df_ratings.drop(\"timestamp\")\n",
    "\n",
    "df_ratings.head()"
   ]
  },
  {
   "cell_type": "code",
   "execution_count": 8,
   "metadata": {},
   "outputs": [],
   "source": [
    "# Create mapping user id and movie id\n",
    "def map_dict(values):\n",
    "    vals = list(set(values))\n",
    "    return {v: i for i, v in enumerate(vals)}"
   ]
  },
  {
   "cell_type": "code",
   "execution_count": 9,
   "metadata": {},
   "outputs": [],
   "source": [
    "movie_ids = map_dict(df_ratings[\"movieId\"])\n",
    "user_ids = map_dict(df_ratings[\"userId\"])\n",
    "\n",
    "df_ratings = df_ratings.with_columns([\n",
    "    pl.col(\"userId\").replace(user_ids).alias(\"user_id\"),\n",
    "    pl.col(\"movieId\").replace(movie_ids).alias(\"movie_id\")\n",
    "])"
   ]
  },
  {
   "cell_type": "code",
   "execution_count": 10,
   "metadata": {},
   "outputs": [],
   "source": [
    "valid_size = 0.2\n",
    "\n",
    "df_train, df_valid = train_test_split(\n",
    "    df_ratings.drop([\"movieId\", \"userId\"]).select([\"user_id\", \"movie_id\", \"rating\"]),\n",
    "    test_size=valid_size,\n",
    ")"
   ]
  },
  {
   "cell_type": "code",
   "execution_count": 11,
   "metadata": {},
   "outputs": [
    {
     "ename": "NameError",
     "evalue": "name 'PolarsCollabDataset' is not defined",
     "output_type": "error",
     "traceback": [
      "\u001b[0;31m---------------------------------------------------------------------------\u001b[0m",
      "\u001b[0;31mNameError\u001b[0m                                 Traceback (most recent call last)",
      "Cell \u001b[0;32mIn[11], line 1\u001b[0m\n\u001b[0;32m----> 1\u001b[0m ds_train \u001b[38;5;241m=\u001b[39m PolarsCollabDataset(df_train)\n\u001b[1;32m      2\u001b[0m ds_valid \u001b[38;5;241m=\u001b[39m PolarsCollabDataset(df_valid)\n\u001b[1;32m      4\u001b[0m batch_size \u001b[38;5;241m=\u001b[39m \u001b[38;5;241m32\u001b[39m\n",
      "\u001b[0;31mNameError\u001b[0m: name 'PolarsCollabDataset' is not defined"
     ]
    }
   ],
   "source": [
    "ds_train = PolarsCollabDataset(df_train)\n",
    "ds_valid = PolarsCollabDataset(df_valid)\n",
    "\n",
    "batch_size = 32\n",
    "dl_train = DataLoader(ds_train, batch_size=batch_size, shuffle=True)\n",
    "dl_valid = DataLoader(ds_valid, batch_size=batch_size, shuffle=True)\n",
    "\n",
    "dls_ratings = DataLoaders(dl_train, dl_valid)"
   ]
  },
  {
   "cell_type": "code",
   "execution_count": null,
   "metadata": {},
   "outputs": [],
   "source": [
    "class DotProductBias(nn.Module):\n",
    "    def __init__(self, n_users, n_movies, n_factors, y_range):\n",
    "        super(DotProductBias, self).__init__()\n",
    "        self.user_factors = nn.Embedding(n_users, n_factors)\n",
    "        self.user_bias = nn.Embedding(n_users, 1)\n",
    "        self.movie_factors = nn.Embedding(n_movies, n_factors)\n",
    "        self.movie_bias = nn.Embedding(n_movies, 1)\n",
    "        self.y_range = y_range\n",
    "\n",
    "    def forward(self, x):\n",
    "        x = torch.tensor(x, dtype=torch.int32)\n",
    "        users = self.user_factors(x[:, 0])\n",
    "        movies = self.movie_factors(x[:, 1])\n",
    "        user_biases = self.user_bias(x[:, 0])\n",
    "        movie_biases = self.movie_bias(x[:, 1])\n",
    "\n",
    "        res = (users * movies).sum(dim=1)\n",
    "        res += (user_biases + movie_biases).flatten()\n",
    "\n",
    "        return torch.sigmoid(res) * (y_range[1] - y_range[0]) + y_range[0]"
   ]
  },
  {
   "cell_type": "code",
   "execution_count": null,
   "metadata": {},
   "outputs": [],
   "source": [
    "n_users = df_ratings[\"userId\"].unique().shape[0]\n",
    "n_movies = df_ratings[\"movieId\"].unique().shape[0]\n",
    "n_factors = 50\n",
    "\n",
    "y_range = (df_ratings[\"rating\"].min(), df_ratings[\"rating\"].max())"
   ]
  },
  {
   "cell_type": "code",
   "execution_count": null,
   "metadata": {},
   "outputs": [
    {
     "data": {
      "text/plain": [
       "DotProductBias(\n",
       "  (user_factors): Embedding(610, 50)\n",
       "  (user_bias): Embedding(610, 1)\n",
       "  (movie_factors): Embedding(9724, 50)\n",
       "  (movie_bias): Embedding(9724, 1)\n",
       ")"
      ]
     },
     "execution_count": 225,
     "metadata": {},
     "output_type": "execute_result"
    }
   ],
   "source": [
    "collab_model = DotProductBias(n_users, n_movies, n_factors, y_range)\n",
    "collab_model"
   ]
  },
  {
   "cell_type": "code",
   "execution_count": 226,
   "metadata": {},
   "outputs": [
    {
     "name": "stderr",
     "output_type": "stream",
     "text": [
      "/var/folders/z4/0c6tpb8x6sd7tbtczh34bq840000gn/T/ipykernel_69174/4125731782.py:11: UserWarning: To copy construct from a tensor, it is recommended to use sourceTensor.clone().detach() or sourceTensor.clone().detach().requires_grad_(True), rather than torch.tensor(sourceTensor).\n",
      "  x = torch.tensor(x, dtype=torch.int32)\n"
     ]
    },
    {
     "data": {
      "text/plain": [
       "tensor([4.9043, 0.5000, 0.9823, 0.5039, 4.9989, 4.7626, 0.5018, 0.5000, 4.9997,\n",
       "        2.6362, 4.9989, 4.9290, 1.8125, 0.5012, 0.5044, 4.9789, 0.5003, 4.9988,\n",
       "        0.6869, 1.2231, 0.5720, 4.9993, 4.8546, 4.7596, 2.3201, 0.5000, 4.9958,\n",
       "        0.5130, 3.4653, 4.9999, 4.9947, 4.3934], grad_fn=<AddBackward0>)"
      ]
     },
     "execution_count": 226,
     "metadata": {},
     "output_type": "execute_result"
    }
   ],
   "source": [
    "smp = next(iter(dl_train))[0]\n",
    "\n",
    "collab_model(smp)"
   ]
  },
  {
   "cell_type": "code",
   "execution_count": 228,
   "metadata": {},
   "outputs": [
    {
     "name": "stderr",
     "output_type": "stream",
     "text": [
      "/var/folders/z4/0c6tpb8x6sd7tbtczh34bq840000gn/T/ipykernel_69174/4125731782.py:11: UserWarning: To copy construct from a tensor, it is recommended to use sourceTensor.clone().detach() or sourceTensor.clone().detach().requires_grad_(True), rather than torch.tensor(sourceTensor).\n",
      "  x = torch.tensor(x, dtype=torch.int32)\n"
     ]
    },
    {
     "data": {
      "text/plain": [
       "tensor([4.9043, 0.5000, 0.9823, 0.5039, 4.9989, 4.7626, 0.5018, 0.5000, 4.9997,\n",
       "        2.6362, 4.9989, 4.9290, 1.8125, 0.5012, 0.5044, 4.9789, 0.5003, 4.9988,\n",
       "        0.6869, 1.2231, 0.5720, 4.9993, 4.8546, 4.7596, 2.3201, 0.5000, 4.9958,\n",
       "        0.5130, 3.4653, 4.9999, 4.9947, 4.3934], grad_fn=<AddBackward0>)"
      ]
     },
     "execution_count": 228,
     "metadata": {},
     "output_type": "execute_result"
    }
   ],
   "source": [
    "collab_model(smp)"
   ]
  },
  {
   "cell_type": "code",
   "execution_count": 229,
   "metadata": {},
   "outputs": [],
   "source": [
    "collab_learner = learner.Learner(dls_ratings, collab_model, loss_func=MSELossFlat())"
   ]
  },
  {
   "cell_type": "code",
   "execution_count": 230,
   "metadata": {},
   "outputs": [
    {
     "name": "stderr",
     "output_type": "stream",
     "text": [
      "/var/folders/z4/0c6tpb8x6sd7tbtczh34bq840000gn/T/ipykernel_69174/4125731782.py:11: UserWarning: To copy construct from a tensor, it is recommended to use sourceTensor.clone().detach() or sourceTensor.clone().detach().requires_grad_(True), rather than torch.tensor(sourceTensor).\n",
      "  x = torch.tensor(x, dtype=torch.int32)\n"
     ]
    },
    {
     "name": "stdout",
     "output_type": "stream",
     "text": [
      "[0, 1.0714415311813354, 1.031864047050476, '00:07']\n",
      "[1, 0.7664541602134705, 0.7796425819396973, '00:07']\n",
      "[2, 0.673209547996521, 0.749434769153595, '00:07']\n",
      "[3, 0.6734711527824402, 0.7544600963592529, '00:07']\n",
      "[4, 0.631726086139679, 0.746547520160675, '00:08']\n"
     ]
    }
   ],
   "source": [
    "collab_learner.fit(50, 5e-3, wd=0.1)"
   ]
  },
  {
   "cell_type": "code",
   "execution_count": 233,
   "metadata": {},
   "outputs": [
    {
     "data": {
      "text/plain": [
       "<bound method Learner.predict of <fastai.learner.Learner object at 0x31ce9b950>>"
      ]
     },
     "execution_count": 233,
     "metadata": {},
     "output_type": "execute_result"
    }
   ],
   "source": [
    "collab_learner.predict"
   ]
  },
  {
   "cell_type": "code",
   "execution_count": 239,
   "metadata": {},
   "outputs": [
    {
     "data": {
      "text/plain": [
       "tensor([-1.3871e-01, -3.8165e-02,  1.8014e-01, -1.2376e-01,  4.1744e-02,\n",
       "        -5.7368e-02,  1.1342e-01,  8.4517e-02, -1.4927e-01, -1.7615e-01,\n",
       "        -4.4052e-02, -4.1520e-02,  3.6822e-02, -1.0355e-01, -8.2239e-02,\n",
       "        -1.4295e-01, -1.3178e-01,  9.4141e-03,  1.7219e-01, -2.8844e-02,\n",
       "        -5.7889e-05,  2.5924e-02,  1.2674e-01,  7.1839e-02, -2.3760e-01,\n",
       "         2.7293e-02, -1.6907e-01, -4.9631e-02, -1.5789e-01,  3.0090e-01,\n",
       "        -1.3494e-01,  2.3973e-02,  1.3801e-01,  1.3494e-01,  1.9310e-01,\n",
       "         5.4915e-02, -5.1729e-02, -2.1546e-02,  1.0770e-01,  1.2513e-01,\n",
       "         9.2090e-02, -1.5244e-01, -9.9093e-03,  9.2629e-03,  7.4559e-02,\n",
       "        -1.6656e-01,  4.4012e-03,  1.2736e-01,  7.8801e-02, -3.9277e-02],\n",
       "       grad_fn=<EmbeddingBackward0>)"
      ]
     },
     "execution_count": 239,
     "metadata": {},
     "output_type": "execute_result"
    }
   ],
   "source": [
    "collab_learner.movie_factors(torch.tensor(2))"
   ]
  },
  {
   "cell_type": "code",
   "execution_count": 241,
   "metadata": {},
   "outputs": [
    {
     "data": {
      "text/html": [
       "<div><style>\n",
       ".dataframe > thead > tr,\n",
       ".dataframe > tbody > tr {\n",
       "  text-align: right;\n",
       "  white-space: pre-wrap;\n",
       "}\n",
       "</style>\n",
       "<small>shape: (5, 3)</small><table border=\"1\" class=\"dataframe\"><thead><tr><th>movieId</th><th>title</th><th>genres</th></tr><tr><td>i64</td><td>str</td><td>str</td></tr></thead><tbody><tr><td>1</td><td>&quot;Toy Story (1995)&quot;</td><td>&quot;Adventure|Animation|Children|C…</td></tr><tr><td>2</td><td>&quot;Jumanji (1995)&quot;</td><td>&quot;Adventure|Children|Fantasy&quot;</td></tr><tr><td>3</td><td>&quot;Grumpier Old Men (1995)&quot;</td><td>&quot;Comedy|Romance&quot;</td></tr><tr><td>4</td><td>&quot;Waiting to Exhale (1995)&quot;</td><td>&quot;Comedy|Drama|Romance&quot;</td></tr><tr><td>5</td><td>&quot;Father of the Bride Part II (1…</td><td>&quot;Comedy&quot;</td></tr></tbody></table></div>"
      ],
      "text/plain": [
       "shape: (5, 3)\n",
       "┌─────────┬─────────────────────────────────┬─────────────────────────────────┐\n",
       "│ movieId ┆ title                           ┆ genres                          │\n",
       "│ ---     ┆ ---                             ┆ ---                             │\n",
       "│ i64     ┆ str                             ┆ str                             │\n",
       "╞═════════╪═════════════════════════════════╪═════════════════════════════════╡\n",
       "│ 1       ┆ Toy Story (1995)                ┆ Adventure|Animation|Children|C… │\n",
       "│ 2       ┆ Jumanji (1995)                  ┆ Adventure|Children|Fantasy      │\n",
       "│ 3       ┆ Grumpier Old Men (1995)         ┆ Comedy|Romance                  │\n",
       "│ 4       ┆ Waiting to Exhale (1995)        ┆ Comedy|Drama|Romance            │\n",
       "│ 5       ┆ Father of the Bride Part II (1… ┆ Comedy                          │\n",
       "└─────────┴─────────────────────────────────┴─────────────────────────────────┘"
      ]
     },
     "execution_count": 241,
     "metadata": {},
     "output_type": "execute_result"
    }
   ],
   "source": [
    "# Associate with movies and make a couple of recommendations\n",
    "df_movies = pl.read_csv(\"../data/ml-latest-small/movies.csv\")\n",
    "df_movies.head()"
   ]
  },
  {
   "cell_type": "code",
   "execution_count": 243,
   "metadata": {},
   "outputs": [
    {
     "data": {
      "text/html": [
       "<div><style>\n",
       ".dataframe > thead > tr,\n",
       ".dataframe > tbody > tr {\n",
       "  text-align: right;\n",
       "  white-space: pre-wrap;\n",
       "}\n",
       "</style>\n",
       "<small>shape: (5, 6)</small><table border=\"1\" class=\"dataframe\"><thead><tr><th>userId</th><th>movieId</th><th>rating</th><th>user_id</th><th>movie_id</th><th>title</th></tr><tr><td>i64</td><td>i64</td><td>f64</td><td>i64</td><td>i64</td><td>str</td></tr></thead><tbody><tr><td>1</td><td>1</td><td>4.0</td><td>0</td><td>0</td><td>&quot;Toy Story (1995)&quot;</td></tr><tr><td>1</td><td>3</td><td>4.0</td><td>0</td><td>2</td><td>&quot;Grumpier Old Men (1995)&quot;</td></tr><tr><td>1</td><td>6</td><td>4.0</td><td>0</td><td>5</td><td>&quot;Heat (1995)&quot;</td></tr><tr><td>1</td><td>47</td><td>5.0</td><td>0</td><td>46</td><td>&quot;Seven (a.k.a. Se7en) (1995)&quot;</td></tr><tr><td>1</td><td>50</td><td>5.0</td><td>0</td><td>49</td><td>&quot;Usual Suspects, The (1995)&quot;</td></tr></tbody></table></div>"
      ],
      "text/plain": [
       "shape: (5, 6)\n",
       "┌────────┬─────────┬────────┬─────────┬──────────┬─────────────────────────────┐\n",
       "│ userId ┆ movieId ┆ rating ┆ user_id ┆ movie_id ┆ title                       │\n",
       "│ ---    ┆ ---     ┆ ---    ┆ ---     ┆ ---      ┆ ---                         │\n",
       "│ i64    ┆ i64     ┆ f64    ┆ i64     ┆ i64      ┆ str                         │\n",
       "╞════════╪═════════╪════════╪═════════╪══════════╪═════════════════════════════╡\n",
       "│ 1      ┆ 1       ┆ 4.0    ┆ 0       ┆ 0        ┆ Toy Story (1995)            │\n",
       "│ 1      ┆ 3       ┆ 4.0    ┆ 0       ┆ 2        ┆ Grumpier Old Men (1995)     │\n",
       "│ 1      ┆ 6       ┆ 4.0    ┆ 0       ┆ 5        ┆ Heat (1995)                 │\n",
       "│ 1      ┆ 47      ┆ 5.0    ┆ 0       ┆ 46       ┆ Seven (a.k.a. Se7en) (1995) │\n",
       "│ 1      ┆ 50      ┆ 5.0    ┆ 0       ┆ 49       ┆ Usual Suspects, The (1995)  │\n",
       "└────────┴─────────┴────────┴─────────┴──────────┴─────────────────────────────┘"
      ]
     },
     "execution_count": 243,
     "metadata": {},
     "output_type": "execute_result"
    }
   ],
   "source": [
    "df_ratings_mov = df_ratings.join(df_movies.drop(\"genres\"), on=\"movieId\")\n",
    "df_ratings_mov.head()"
   ]
  },
  {
   "cell_type": "code",
   "execution_count": 246,
   "metadata": {},
   "outputs": [],
   "source": [
    "df_movies_id = df_ratings_mov.select([\"movieId\", \"movie_id\", \"title\"]).unique()"
   ]
  },
  {
   "cell_type": "code",
   "execution_count": 261,
   "metadata": {},
   "outputs": [],
   "source": [
    "df_movies_id = df_movies_id.sort(\"movie_id\")"
   ]
  },
  {
   "cell_type": "code",
   "execution_count": 276,
   "metadata": {},
   "outputs": [],
   "source": [
    "_movie_embds = (\n",
    "    collab_learner.movie_factors(torch.tensor(df_movies_id[\"movie_id\"].to_numpy()))\n",
    "    .detach()\n",
    "    .numpy()\n",
    "    + collab_learner.movie_bias(torch.tensor(df_movies_id[\"movie_id\"].to_numpy()))\n",
    "    .detach()\n",
    "    .numpy()\n",
    ")\n",
    "\n",
    "# Standardize\n",
    "_movie_embds = _movie_embds / _movie_embds.sum(axis=1).reshape(-1, 1)"
   ]
  },
  {
   "cell_type": "code",
   "execution_count": 277,
   "metadata": {},
   "outputs": [],
   "source": [
    "np.save(\"../data/movie_embeddings.npy\", _movie_embds)"
   ]
  },
  {
   "cell_type": "code",
   "execution_count": 255,
   "metadata": {},
   "outputs": [
    {
     "data": {
      "text/plain": [
       "<xlsxwriter.workbook.Workbook at 0x31b67c7a0>"
      ]
     },
     "execution_count": 255,
     "metadata": {},
     "output_type": "execute_result"
    }
   ],
   "source": [
    "# df_movies_id.write_excel(\"../data/movies.xlsx\")"
   ]
  },
  {
   "cell_type": "code",
   "execution_count": 267,
   "metadata": {},
   "outputs": [
    {
     "data": {
      "text/plain": [
       "array([[-0.0187987 ,  0.10761486, -0.29435503, ..., -0.30116737,\n",
       "         0.17865072,  0.02025343],\n",
       "       [ 0.01864266, -0.03724597, -0.10102499, ..., -0.09603266,\n",
       "        -0.09170996, -0.06301638],\n",
       "       [ 1.4784467 ,  0.4067808 , -1.919999  , ..., -1.3575077 ,\n",
       "        -0.8399011 ,  0.41863376],\n",
       "       ...,\n",
       "       [ 0.18171374,  0.46859145,  0.5245141 , ..., -0.5189195 ,\n",
       "         0.51350373, -0.5088581 ],\n",
       "       [-1.2465489 , -0.04525044, -0.15683722, ...,  0.46330243,\n",
       "        -0.19046976, -1.5545137 ],\n",
       "       [ 0.52228975, -0.5752992 ,  0.54537344, ...,  0.5703891 ,\n",
       "        -0.5257256 , -0.5341888 ]], dtype=float32)"
      ]
     },
     "execution_count": 267,
     "metadata": {},
     "output_type": "execute_result"
    }
   ],
   "source": []
  }
 ],
 "metadata": {
  "kernelspec": {
   "display_name": "adhocs",
   "language": "python",
   "name": "python3"
  },
  "language_info": {
   "codemirror_mode": {
    "name": "ipython",
    "version": 3
   },
   "file_extension": ".py",
   "mimetype": "text/x-python",
   "name": "python",
   "nbconvert_exporter": "python",
   "pygments_lexer": "ipython3",
   "version": "3.12.4"
  }
 },
 "nbformat": 4,
 "nbformat_minor": 2
}
