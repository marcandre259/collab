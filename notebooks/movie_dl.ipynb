{
 "cells": [
  {
   "cell_type": "code",
   "execution_count": 1,
   "metadata": {},
   "outputs": [],
   "source": [
    "import fastai\n",
    "from fastai import learner\n",
    "from fastai.losses import MSELossFlat\n",
    "import torch\n",
    "from torch import nn\n",
    "from torch.utils.data import Dataset, DataLoader\n",
    "from fastai.data.core import DataLoaders\n",
    "import numpy as np\n",
    "from sklearn.model_selection import train_test_split\n",
    "\n",
    "from typing import List\n",
    "\n",
    "import sys\n",
    "\n",
    "sys.path.append(\"/Users/marc/Documents/collab/\")\n",
    "\n",
    "from functions import PolarsCollabDataset\n",
    "\n",
    "import polars as pl"
   ]
  },
  {
   "cell_type": "code",
   "execution_count": 2,
   "metadata": {},
   "outputs": [],
   "source": [
    "df_ratings = pl.read_csv(\"../data/ml-latest-small/ratings.csv\")"
   ]
  },
  {
   "cell_type": "code",
   "execution_count": 3,
   "metadata": {},
   "outputs": [
    {
     "data": {
      "text/html": [
       "<div><style>\n",
       ".dataframe > thead > tr,\n",
       ".dataframe > tbody > tr {\n",
       "  text-align: right;\n",
       "  white-space: pre-wrap;\n",
       "}\n",
       "</style>\n",
       "<small>shape: (5, 3)</small><table border=\"1\" class=\"dataframe\"><thead><tr><th>movieId</th><th>title</th><th>genres</th></tr><tr><td>i64</td><td>str</td><td>str</td></tr></thead><tbody><tr><td>1</td><td>&quot;Toy Story (1995)&quot;</td><td>&quot;Adventure|Animation|Children|C…</td></tr><tr><td>2</td><td>&quot;Jumanji (1995)&quot;</td><td>&quot;Adventure|Children|Fantasy&quot;</td></tr><tr><td>3</td><td>&quot;Grumpier Old Men (1995)&quot;</td><td>&quot;Comedy|Romance&quot;</td></tr><tr><td>4</td><td>&quot;Waiting to Exhale (1995)&quot;</td><td>&quot;Comedy|Drama|Romance&quot;</td></tr><tr><td>5</td><td>&quot;Father of the Bride Part II (1…</td><td>&quot;Comedy&quot;</td></tr></tbody></table></div>"
      ],
      "text/plain": [
       "shape: (5, 3)\n",
       "┌─────────┬─────────────────────────────────┬─────────────────────────────────┐\n",
       "│ movieId ┆ title                           ┆ genres                          │\n",
       "│ ---     ┆ ---                             ┆ ---                             │\n",
       "│ i64     ┆ str                             ┆ str                             │\n",
       "╞═════════╪═════════════════════════════════╪═════════════════════════════════╡\n",
       "│ 1       ┆ Toy Story (1995)                ┆ Adventure|Animation|Children|C… │\n",
       "│ 2       ┆ Jumanji (1995)                  ┆ Adventure|Children|Fantasy      │\n",
       "│ 3       ┆ Grumpier Old Men (1995)         ┆ Comedy|Romance                  │\n",
       "│ 4       ┆ Waiting to Exhale (1995)        ┆ Comedy|Drama|Romance            │\n",
       "│ 5       ┆ Father of the Bride Part II (1… ┆ Comedy                          │\n",
       "└─────────┴─────────────────────────────────┴─────────────────────────────────┘"
      ]
     },
     "execution_count": 3,
     "metadata": {},
     "output_type": "execute_result"
    }
   ],
   "source": [
    "# Load metadata\n",
    "df_movies = pl.read_csv(\"../data/ml-latest-small/movies.csv\")\n",
    "\n",
    "df_movies.head()"
   ]
  },
  {
   "cell_type": "code",
   "execution_count": null,
   "metadata": {},
   "outputs": [],
   "source": [
    "df_ratings = df_ratings.join(df_movies, on=\"movieId\", how=\"inner\")"
   ]
  },
  {
   "cell_type": "code",
   "execution_count": 5,
   "metadata": {},
   "outputs": [
    {
     "data": {
      "text/html": [
       "<div><style>\n",
       ".dataframe > thead > tr,\n",
       ".dataframe > tbody > tr {\n",
       "  text-align: right;\n",
       "  white-space: pre-wrap;\n",
       "}\n",
       "</style>\n",
       "<small>shape: (5, 6)</small><table border=\"1\" class=\"dataframe\"><thead><tr><th>userId</th><th>movieId</th><th>rating</th><th>timestamp</th><th>title</th><th>genres</th></tr><tr><td>i64</td><td>i64</td><td>f64</td><td>i64</td><td>str</td><td>str</td></tr></thead><tbody><tr><td>1</td><td>1</td><td>4.0</td><td>964982703</td><td>&quot;Toy Story (1995)&quot;</td><td>&quot;Adventure|Animation|Children|C…</td></tr><tr><td>1</td><td>3</td><td>4.0</td><td>964981247</td><td>&quot;Grumpier Old Men (1995)&quot;</td><td>&quot;Comedy|Romance&quot;</td></tr><tr><td>1</td><td>6</td><td>4.0</td><td>964982224</td><td>&quot;Heat (1995)&quot;</td><td>&quot;Action|Crime|Thriller&quot;</td></tr><tr><td>1</td><td>47</td><td>5.0</td><td>964983815</td><td>&quot;Seven (a.k.a. Se7en) (1995)&quot;</td><td>&quot;Mystery|Thriller&quot;</td></tr><tr><td>1</td><td>50</td><td>5.0</td><td>964982931</td><td>&quot;Usual Suspects, The (1995)&quot;</td><td>&quot;Crime|Mystery|Thriller&quot;</td></tr></tbody></table></div>"
      ],
      "text/plain": [
       "shape: (5, 6)\n",
       "┌────────┬─────────┬────────┬───────────┬─────────────────────────────┬────────────────────────────┐\n",
       "│ userId ┆ movieId ┆ rating ┆ timestamp ┆ title                       ┆ genres                     │\n",
       "│ ---    ┆ ---     ┆ ---    ┆ ---       ┆ ---                         ┆ ---                        │\n",
       "│ i64    ┆ i64     ┆ f64    ┆ i64       ┆ str                         ┆ str                        │\n",
       "╞════════╪═════════╪════════╪═══════════╪═════════════════════════════╪════════════════════════════╡\n",
       "│ 1      ┆ 1       ┆ 4.0    ┆ 964982703 ┆ Toy Story (1995)            ┆ Adventure|Animation|Childr │\n",
       "│        ┆         ┆        ┆           ┆                             ┆ en|C…                      │\n",
       "│ 1      ┆ 3       ┆ 4.0    ┆ 964981247 ┆ Grumpier Old Men (1995)     ┆ Comedy|Romance             │\n",
       "│ 1      ┆ 6       ┆ 4.0    ┆ 964982224 ┆ Heat (1995)                 ┆ Action|Crime|Thriller      │\n",
       "│ 1      ┆ 47      ┆ 5.0    ┆ 964983815 ┆ Seven (a.k.a. Se7en) (1995) ┆ Mystery|Thriller           │\n",
       "│ 1      ┆ 50      ┆ 5.0    ┆ 964982931 ┆ Usual Suspects, The (1995)  ┆ Crime|Mystery|Thriller     │\n",
       "└────────┴─────────┴────────┴───────────┴─────────────────────────────┴────────────────────────────┘"
      ]
     },
     "execution_count": 5,
     "metadata": {},
     "output_type": "execute_result"
    }
   ],
   "source": [
    "df_ratings.head()"
   ]
  },
  {
   "cell_type": "code",
   "execution_count": 6,
   "metadata": {},
   "outputs": [
    {
     "data": {
      "text/html": [
       "<div><style>\n",
       ".dataframe > thead > tr,\n",
       ".dataframe > tbody > tr {\n",
       "  text-align: right;\n",
       "  white-space: pre-wrap;\n",
       "}\n",
       "</style>\n",
       "<small>shape: (5, 8)</small><table border=\"1\" class=\"dataframe\"><thead><tr><th>userId</th><th>movieId</th><th>rating</th><th>timestamp</th><th>title</th><th>genres</th><th>userChId</th><th>movieChId</th></tr><tr><td>i64</td><td>i64</td><td>f64</td><td>i64</td><td>str</td><td>str</td><td>i64</td><td>i64</td></tr></thead><tbody><tr><td>1</td><td>1</td><td>4.0</td><td>964982703</td><td>&quot;Toy Story (1995)&quot;</td><td>&quot;Adventure|Animation|Children|C…</td><td>0</td><td>0</td></tr><tr><td>1</td><td>3</td><td>4.0</td><td>964981247</td><td>&quot;Grumpier Old Men (1995)&quot;</td><td>&quot;Comedy|Romance&quot;</td><td>0</td><td>2</td></tr><tr><td>1</td><td>6</td><td>4.0</td><td>964982224</td><td>&quot;Heat (1995)&quot;</td><td>&quot;Action|Crime|Thriller&quot;</td><td>0</td><td>5</td></tr><tr><td>1</td><td>47</td><td>5.0</td><td>964983815</td><td>&quot;Seven (a.k.a. Se7en) (1995)&quot;</td><td>&quot;Mystery|Thriller&quot;</td><td>0</td><td>43</td></tr><tr><td>1</td><td>50</td><td>5.0</td><td>964982931</td><td>&quot;Usual Suspects, The (1995)&quot;</td><td>&quot;Crime|Mystery|Thriller&quot;</td><td>0</td><td>46</td></tr></tbody></table></div>"
      ],
      "text/plain": [
       "shape: (5, 8)\n",
       "┌────────┬─────────┬────────┬───────────┬─────────────────┬─────────────────┬──────────┬───────────┐\n",
       "│ userId ┆ movieId ┆ rating ┆ timestamp ┆ title           ┆ genres          ┆ userChId ┆ movieChId │\n",
       "│ ---    ┆ ---     ┆ ---    ┆ ---       ┆ ---             ┆ ---             ┆ ---      ┆ ---       │\n",
       "│ i64    ┆ i64     ┆ f64    ┆ i64       ┆ str             ┆ str             ┆ i64      ┆ i64       │\n",
       "╞════════╪═════════╪════════╪═══════════╪═════════════════╪═════════════════╪══════════╪═══════════╡\n",
       "│ 1      ┆ 1       ┆ 4.0    ┆ 964982703 ┆ Toy Story       ┆ Adventure|Anima ┆ 0        ┆ 0         │\n",
       "│        ┆         ┆        ┆           ┆ (1995)          ┆ tion|Children|C ┆          ┆           │\n",
       "│        ┆         ┆        ┆           ┆                 ┆ …               ┆          ┆           │\n",
       "│ 1      ┆ 3       ┆ 4.0    ┆ 964981247 ┆ Grumpier Old    ┆ Comedy|Romance  ┆ 0        ┆ 2         │\n",
       "│        ┆         ┆        ┆           ┆ Men (1995)      ┆                 ┆          ┆           │\n",
       "│ 1      ┆ 6       ┆ 4.0    ┆ 964982224 ┆ Heat (1995)     ┆ Action|Crime|Th ┆ 0        ┆ 5         │\n",
       "│        ┆         ┆        ┆           ┆                 ┆ riller          ┆          ┆           │\n",
       "│ 1      ┆ 47      ┆ 5.0    ┆ 964983815 ┆ Seven (a.k.a.   ┆ Mystery|Thrille ┆ 0        ┆ 43        │\n",
       "│        ┆         ┆        ┆           ┆ Se7en) (1995)   ┆ r               ┆          ┆           │\n",
       "│ 1      ┆ 50      ┆ 5.0    ┆ 964982931 ┆ Usual Suspects, ┆ Crime|Mystery|T ┆ 0        ┆ 46        │\n",
       "│        ┆         ┆        ┆           ┆ The (1995)      ┆ hriller         ┆          ┆           │\n",
       "└────────┴─────────┴────────┴───────────┴─────────────────┴─────────────────┴──────────┴───────────┘"
      ]
     },
     "execution_count": 6,
     "metadata": {},
     "output_type": "execute_result"
    }
   ],
   "source": [
    "# Create ordered ids for the users and movies\n",
    "userId = df_ratings[\"userId\"].unique().to_numpy()\n",
    "movieId = df_ratings[\"movieId\"].unique().to_numpy()\n",
    "\n",
    "userId2userChId = {j:i  for i, j in enumerate(userId)}\n",
    "movieId2movieChId = {j:i for i, j in enumerate(movieId)}\n",
    "\n",
    "userChId2userId = {v: k for k, v in userId2userChId.items()}\n",
    "movieChId2movieId = {v: k for k, v in movieId2movieChId.items()}\n",
    "\n",
    "q = [\n",
    "    pl.col(\"userId\").replace(userId2userChId).alias(\"userChId\"),\n",
    "    pl.col(\"movieId\").replace(movieId2movieChId).alias(\"movieChId\"),\n",
    "]\n",
    "\n",
    "df_ratings = df_ratings.with_columns(q)\n",
    "\n",
    "df_ratings.head()"
   ]
  },
  {
   "cell_type": "code",
   "execution_count": 7,
   "metadata": {},
   "outputs": [
    {
     "data": {
      "text/html": [
       "<div><style>\n",
       ".dataframe > thead > tr,\n",
       ".dataframe > tbody > tr {\n",
       "  text-align: right;\n",
       "  white-space: pre-wrap;\n",
       "}\n",
       "</style>\n",
       "<small>shape: (1, 4)</small><table border=\"1\" class=\"dataframe\"><thead><tr><th>userId</th><th>movieId</th><th>userChId</th><th>movieChId</th></tr><tr><td>i64</td><td>i64</td><td>i64</td><td>i64</td></tr></thead><tbody><tr><td>610</td><td>193609</td><td>609</td><td>9723</td></tr></tbody></table></div>"
      ],
      "text/plain": [
       "shape: (1, 4)\n",
       "┌────────┬─────────┬──────────┬───────────┐\n",
       "│ userId ┆ movieId ┆ userChId ┆ movieChId │\n",
       "│ ---    ┆ ---     ┆ ---      ┆ ---       │\n",
       "│ i64    ┆ i64     ┆ i64      ┆ i64       │\n",
       "╞════════╪═════════╪══════════╪═══════════╡\n",
       "│ 610    ┆ 193609  ┆ 609      ┆ 9723      │\n",
       "└────────┴─────────┴──────────┴───────────┘"
      ]
     },
     "execution_count": 7,
     "metadata": {},
     "output_type": "execute_result"
    }
   ],
   "source": [
    "df_ratings.select(pl.col([\"userId\", \"movieId\", \"userChId\", \"movieChId\"]).max())"
   ]
  },
  {
   "cell_type": "code",
   "execution_count": 8,
   "metadata": {},
   "outputs": [],
   "source": [
    "df_train, df_valid = train_test_split(df_ratings, test_size=0.3)\n",
    "\n",
    "ds_train = PolarsCollabDataset(df_train, label_column=\"rating\", user_column=\"userChId\", item_column=\"movieChId\")\n",
    "ds_valid = PolarsCollabDataset(df_valid, label_column=\"rating\", user_column=\"userChId\", item_column=\"movieChId\")\n",
    "\n",
    "batch_size = 32\n",
    "dl_train = DataLoader(ds_train, batch_size=batch_size, shuffle=True)\n",
    "dl_valid = DataLoader(ds_valid, batch_size=batch_size, shuffle=True)"
   ]
  },
  {
   "cell_type": "code",
   "execution_count": 9,
   "metadata": {},
   "outputs": [],
   "source": [
    "# Sigmoid activation with limiter\n",
    "x = 8\n",
    "max_x = 5\n",
    "min_x = 0\n",
    "\n",
    "output = torch.sigmoid(torch.tensor([-3])) * (max_x - min_x) + min_x\n",
    "\n",
    "class BoundedSigmoid(nn.Module):\n",
    "    def __init__(self, min_x: float, max_x: float):\n",
    "        super().__init__()\n",
    "        self.min_x = min_x\n",
    "        self.max_x = max_x\n",
    "\n",
    "    def forward(self, x: torch.Tensor) -> torch.Tensor:\n",
    "        return torch.sigmoid(x) * (self.max_x - self.min_x) + self.min_x"
   ]
  },
  {
   "cell_type": "code",
   "execution_count": 10,
   "metadata": {},
   "outputs": [],
   "source": [
    "class CollabNN(nn.Module):\n",
    "    def __init__(\n",
    "        self,\n",
    "        n_users: int,\n",
    "        n_items: int,\n",
    "        min_outcome: float,\n",
    "        max_outcome: float,\n",
    "        n_embeddings: int = 64,\n",
    "    ):\n",
    "        super().__init__()\n",
    "\n",
    "        self.user_embeddings = nn.Embedding(n_users + 1, n_embeddings)\n",
    "        self.item_embeddings = nn.Embedding(n_items, n_embeddings)\n",
    "\n",
    "        self.fc_layers = nn.Sequential(\n",
    "            nn.Linear(n_embeddings * 2, 128),\n",
    "            nn.ReLU(),\n",
    "            nn.Dropout(0.2),\n",
    "            nn.Linear(128, 64),\n",
    "            nn.ReLU(),\n",
    "            nn.Dropout(0.2),\n",
    "            nn.Linear(64, 1),\n",
    "            BoundedSigmoid(min_outcome, max_outcome),\n",
    "        )\n",
    "\n",
    "    def forward(self, user_ids, item_ids):\n",
    "        user_embeds = self.user_embeddings(user_ids)\n",
    "        item_embeds = self.item_embeddings(item_ids)\n",
    "\n",
    "        # That's fine, because we pick n from users and n form items (repeating)\n",
    "        x = torch.cat([user_embeds, item_embeds], dim=1)\n",
    "\n",
    "        return self.fc_layers(x)"
   ]
  },
  {
   "cell_type": "code",
   "execution_count": 11,
   "metadata": {},
   "outputs": [
    {
     "data": {
      "text/plain": [
       "tensor([[2.6639],\n",
       "        [2.6590]], grad_fn=<AddBackward0>)"
      ]
     },
     "execution_count": 11,
     "metadata": {},
     "output_type": "execute_result"
    }
   ],
   "source": [
    "collab_nn = CollabNN(10, 5, 0, 5)\n",
    "\n",
    "collab_nn(torch.tensor([1, 2]), torch.tensor([1, 1]))"
   ]
  },
  {
   "cell_type": "code",
   "execution_count": 12,
   "metadata": {},
   "outputs": [],
   "source": [
    "def train_model(model, train_loader, valid_loader, optimizer, epochs=10, patience=3, min_delta=1e-3):\n",
    "    criterion = nn.MSELoss()\n",
    "\n",
    "    best_valid_loss = float(\"inf\")\n",
    "    patience_counter = 0\n",
    "    best_model_state = None\n",
    "\n",
    "    train_losses = []\n",
    "    valid_losses = []\n",
    "\n",
    "    for epoch in range(epochs):\n",
    "        # Training phase\n",
    "        model.train()\n",
    "        epoch_train_loss = 0.0\n",
    "        train_batches = 0\n",
    "\n",
    "        for batch_user_ids, batch_item_ids, batch_ratings in train_loader:\n",
    "            optimizer.zero_grad()\n",
    "            predictions = model(batch_user_ids, batch_item_ids)\n",
    "            loss = criterion(predictions, batch_ratings[:, None])\n",
    "            loss.backward()\n",
    "            optimizer.step()\n",
    "\n",
    "            epoch_train_loss += loss.item()\n",
    "            train_batches += 1\n",
    "\n",
    "        avg_train_loss = epoch_train_loss / train_batches\n",
    "        train_losses.append(avg_train_loss)\n",
    "\n",
    "        # Validation phase\n",
    "        model.eval()\n",
    "        epoch_valid_loss = 0.0\n",
    "        valid_batches = 0\n",
    "\n",
    "        with torch.no_grad():\n",
    "            for batch_user_ids, batch_item_ids, batch_ratings in valid_loader:\n",
    "                predictions = model(batch_user_ids, batch_item_ids)\n",
    "                loss = criterion(predictions, batch_ratings)\n",
    "\n",
    "                epoch_valid_loss += loss.item()\n",
    "                valid_batches += 1\n",
    "\n",
    "        avg_valid_loss = epoch_valid_loss / valid_batches\n",
    "        valid_losses.append(avg_valid_loss)\n",
    "\n",
    "        # Print progress\n",
    "        print(f'Epoch [{epoch+1}/{epochs}]')\n",
    "        print(f'Training Loss: {avg_train_loss:.4f}')\n",
    "        print(f'Validation Loss: {avg_valid_loss:.4f}')\n",
    "\n",
    "        # Early stopping on epoch\n",
    "        if avg_valid_loss <= (best_valid_loss - min_delta):\n",
    "            best_valid_loss = avg_valid_loss\n",
    "            patience_counter = 0\n",
    "            best_model_state = model.state_dict().copy()\n",
    "\n",
    "        else:\n",
    "            patience_counter += 1\n",
    "\n",
    "        if patience_counter >= patience:\n",
    "            model.load_state_dict(best_model_state)\n",
    "            break\n",
    "\n",
    "    return {\n",
    "        \"train_losses\": train_losses,\n",
    "        \"valid_losses\": valid_losses,\n",
    "        \"best_valid_loss\": best_valid_loss,\n",
    "        \"stopped_epoch\": epoch + 1\n",
    "    }"
   ]
  },
  {
   "cell_type": "code",
   "execution_count": 13,
   "metadata": {},
   "outputs": [],
   "source": [
    "def finetune_user(model, user_id: int, item_ids: List[int], item_ratings: List[float], learning_rate: float = 0.01, epochs: int = 100):\n",
    "    criterion = nn.MSELoss()\n",
    "\n",
    "    # I left the last user embedding of the model free, so can user user_embedding - 1\n",
    "    for param in model.parameters():\n",
    "        param.require_grad = False\n",
    "\n",
    "    # Keep item embeddings constant\n",
    "    model.user_embeddings.weight.requires_grad = True\n",
    "\n",
    "    optimizer = torch.optim.Adam([model.user_embeddings.weight], lr=learning_rate)\n",
    "\n",
    "    for epoch in range(epochs):\n",
    "        optimizer.zero_grad()\n",
    "        predictions = model(\n",
    "            torch.tensor([user_id] * len(item_ids)),\n",
    "            torch.tensor(item_ids)\n",
    "        )\n",
    "        loss = criterion(predictions, torch.tensor(item_ratings).float()[:, None])\n",
    "        loss.backward()\n",
    "        optimizer.step()"
   ]
  },
  {
   "cell_type": "code",
   "execution_count": 51,
   "metadata": {},
   "outputs": [],
   "source": [
    "def get_recommendations(model, user_id, item_ids, top_k=10):\n",
    "    model.eval()\n",
    "    with torch.no_grad():\n",
    "        user_ids = torch.tensor([user_id] * len(item_ids))\n",
    "        item_ids = torch.tensor(item_ids)\n",
    "        predictions = model(user_ids, item_ids).flatten()\n",
    "\n",
    "        # Get top-k recommendations\n",
    "        top_k_values, top_k_indices = torch.topk(predictions, k=top_k)\n",
    "        recommended_items = item_ids[top_k_indices]\n",
    "\n",
    "    return recommended_items, top_k_values"
   ]
  },
  {
   "cell_type": "code",
   "execution_count": 52,
   "metadata": {},
   "outputs": [
    {
     "data": {
      "text/html": [
       "<div><style>\n",
       ".dataframe > thead > tr,\n",
       ".dataframe > tbody > tr {\n",
       "  text-align: right;\n",
       "  white-space: pre-wrap;\n",
       "}\n",
       "</style>\n",
       "<small>shape: (5, 8)</small><table border=\"1\" class=\"dataframe\"><thead><tr><th>userId</th><th>movieId</th><th>rating</th><th>timestamp</th><th>title</th><th>genres</th><th>userChId</th><th>movieChId</th></tr><tr><td>i64</td><td>i64</td><td>f64</td><td>i64</td><td>str</td><td>str</td><td>i64</td><td>i64</td></tr></thead><tbody><tr><td>1</td><td>1</td><td>4.0</td><td>964982703</td><td>&quot;Toy Story (1995)&quot;</td><td>&quot;Adventure|Animation|Children|C…</td><td>0</td><td>0</td></tr><tr><td>1</td><td>3</td><td>4.0</td><td>964981247</td><td>&quot;Grumpier Old Men (1995)&quot;</td><td>&quot;Comedy|Romance&quot;</td><td>0</td><td>2</td></tr><tr><td>1</td><td>6</td><td>4.0</td><td>964982224</td><td>&quot;Heat (1995)&quot;</td><td>&quot;Action|Crime|Thriller&quot;</td><td>0</td><td>5</td></tr><tr><td>1</td><td>47</td><td>5.0</td><td>964983815</td><td>&quot;Seven (a.k.a. Se7en) (1995)&quot;</td><td>&quot;Mystery|Thriller&quot;</td><td>0</td><td>43</td></tr><tr><td>1</td><td>50</td><td>5.0</td><td>964982931</td><td>&quot;Usual Suspects, The (1995)&quot;</td><td>&quot;Crime|Mystery|Thriller&quot;</td><td>0</td><td>46</td></tr></tbody></table></div>"
      ],
      "text/plain": [
       "shape: (5, 8)\n",
       "┌────────┬─────────┬────────┬───────────┬─────────────────┬─────────────────┬──────────┬───────────┐\n",
       "│ userId ┆ movieId ┆ rating ┆ timestamp ┆ title           ┆ genres          ┆ userChId ┆ movieChId │\n",
       "│ ---    ┆ ---     ┆ ---    ┆ ---       ┆ ---             ┆ ---             ┆ ---      ┆ ---       │\n",
       "│ i64    ┆ i64     ┆ f64    ┆ i64       ┆ str             ┆ str             ┆ i64      ┆ i64       │\n",
       "╞════════╪═════════╪════════╪═══════════╪═════════════════╪═════════════════╪══════════╪═══════════╡\n",
       "│ 1      ┆ 1       ┆ 4.0    ┆ 964982703 ┆ Toy Story       ┆ Adventure|Anima ┆ 0        ┆ 0         │\n",
       "│        ┆         ┆        ┆           ┆ (1995)          ┆ tion|Children|C ┆          ┆           │\n",
       "│        ┆         ┆        ┆           ┆                 ┆ …               ┆          ┆           │\n",
       "│ 1      ┆ 3       ┆ 4.0    ┆ 964981247 ┆ Grumpier Old    ┆ Comedy|Romance  ┆ 0        ┆ 2         │\n",
       "│        ┆         ┆        ┆           ┆ Men (1995)      ┆                 ┆          ┆           │\n",
       "│ 1      ┆ 6       ┆ 4.0    ┆ 964982224 ┆ Heat (1995)     ┆ Action|Crime|Th ┆ 0        ┆ 5         │\n",
       "│        ┆         ┆        ┆           ┆                 ┆ riller          ┆          ┆           │\n",
       "│ 1      ┆ 47      ┆ 5.0    ┆ 964983815 ┆ Seven (a.k.a.   ┆ Mystery|Thrille ┆ 0        ┆ 43        │\n",
       "│        ┆         ┆        ┆           ┆ Se7en) (1995)   ┆ r               ┆          ┆           │\n",
       "│ 1      ┆ 50      ┆ 5.0    ┆ 964982931 ┆ Usual Suspects, ┆ Crime|Mystery|T ┆ 0        ┆ 46        │\n",
       "│        ┆         ┆        ┆           ┆ The (1995)      ┆ hriller         ┆          ┆           │\n",
       "└────────┴─────────┴────────┴───────────┴─────────────────┴─────────────────┴──────────┴───────────┘"
      ]
     },
     "execution_count": 52,
     "metadata": {},
     "output_type": "execute_result"
    }
   ],
   "source": [
    "df_ratings.head()"
   ]
  },
  {
   "cell_type": "code",
   "execution_count": 53,
   "metadata": {},
   "outputs": [
    {
     "data": {
      "text/html": [
       "<div><style>\n",
       ".dataframe > thead > tr,\n",
       ".dataframe > tbody > tr {\n",
       "  text-align: right;\n",
       "  white-space: pre-wrap;\n",
       "}\n",
       "</style>\n",
       "<small>shape: (1, 2)</small><table border=\"1\" class=\"dataframe\"><thead><tr><th>userChId</th><th>movieChId</th></tr><tr><td>u32</td><td>u32</td></tr></thead><tbody><tr><td>610</td><td>9724</td></tr></tbody></table></div>"
      ],
      "text/plain": [
       "shape: (1, 2)\n",
       "┌──────────┬───────────┐\n",
       "│ userChId ┆ movieChId │\n",
       "│ ---      ┆ ---       │\n",
       "│ u32      ┆ u32       │\n",
       "╞══════════╪═══════════╡\n",
       "│ 610      ┆ 9724      │\n",
       "└──────────┴───────────┘"
      ]
     },
     "execution_count": 53,
     "metadata": {},
     "output_type": "execute_result"
    }
   ],
   "source": [
    "df_ratings.select(pl.col([\"userChId\", \"movieChId\"]).n_unique())"
   ]
  },
  {
   "cell_type": "code",
   "execution_count": 54,
   "metadata": {},
   "outputs": [],
   "source": [
    "collab_nn = CollabNN(610, 9724, 0.0, 5.0)\n",
    "learning_rate = 1e-4\n",
    "optimizer = torch.optim.Adam(collab_nn.parameters())"
   ]
  },
  {
   "cell_type": "code",
   "execution_count": 55,
   "metadata": {},
   "outputs": [
    {
     "name": "stderr",
     "output_type": "stream",
     "text": [
      "/opt/miniconda3/envs/adhocs/lib/python3.12/site-packages/torch/nn/modules/loss.py:535: UserWarning: Using a target size (torch.Size([32])) that is different to the input size (torch.Size([32, 1])). This will likely lead to incorrect results due to broadcasting. Please ensure they have the same size.\n",
      "  return F.mse_loss(input, target, reduction=self.reduction)\n",
      "/opt/miniconda3/envs/adhocs/lib/python3.12/site-packages/torch/nn/modules/loss.py:535: UserWarning: Using a target size (torch.Size([11])) that is different to the input size (torch.Size([11, 1])). This will likely lead to incorrect results due to broadcasting. Please ensure they have the same size.\n",
      "  return F.mse_loss(input, target, reduction=self.reduction)\n"
     ]
    },
    {
     "name": "stdout",
     "output_type": "stream",
     "text": [
      "Epoch [1/10]\n",
      "Training Loss: 0.9495\n",
      "Validation Loss: 1.2921\n",
      "Epoch [2/10]\n",
      "Training Loss: 0.8237\n",
      "Validation Loss: 1.3340\n",
      "Epoch [3/10]\n",
      "Training Loss: 0.7568\n",
      "Validation Loss: 1.3903\n"
     ]
    }
   ],
   "source": [
    "training_output = train_model(collab_nn, dl_train, dl_valid, optimizer, epochs=10, patience=2)"
   ]
  },
  {
   "cell_type": "code",
   "execution_count": 56,
   "metadata": {},
   "outputs": [],
   "source": [
    "# The Godfather: 4.0\n",
    "# The Dark Knight: 4.0\n",
    "# Pulp Fiction: 3.5\n",
    "# Inception: 3.0\n",
    "# Interstellar: 4.5\n",
    "# Se7en: 4.5\n",
    "# The Prestige: 4.0"
   ]
  },
  {
   "cell_type": "code",
   "execution_count": 57,
   "metadata": {},
   "outputs": [
    {
     "data": {
      "text/html": [
       "<div><style>\n",
       ".dataframe > thead > tr,\n",
       ".dataframe > tbody > tr {\n",
       "  text-align: right;\n",
       "  white-space: pre-wrap;\n",
       "}\n",
       "</style>\n",
       "<small>shape: (5, 3)</small><table border=\"1\" class=\"dataframe\"><thead><tr><th>movieId</th><th>title</th><th>genres</th></tr><tr><td>i64</td><td>str</td><td>str</td></tr></thead><tbody><tr><td>47</td><td>&quot;Seven (a.k.a. Se7en) (1995)&quot;</td><td>&quot;Mystery|Thriller&quot;</td></tr><tr><td>296</td><td>&quot;Pulp Fiction (1994)&quot;</td><td>&quot;Comedy|Crime|Drama|Thriller&quot;</td></tr><tr><td>858</td><td>&quot;Godfather, The (1972)&quot;</td><td>&quot;Crime|Drama&quot;</td></tr><tr><td>1221</td><td>&quot;Godfather: Part II, The (1974)&quot;</td><td>&quot;Crime|Drama&quot;</td></tr><tr><td>2023</td><td>&quot;Godfather: Part III, The (1990…</td><td>&quot;Crime|Drama|Mystery|Thriller&quot;</td></tr></tbody></table></div>"
      ],
      "text/plain": [
       "shape: (5, 3)\n",
       "┌─────────┬─────────────────────────────────┬──────────────────────────────┐\n",
       "│ movieId ┆ title                           ┆ genres                       │\n",
       "│ ---     ┆ ---                             ┆ ---                          │\n",
       "│ i64     ┆ str                             ┆ str                          │\n",
       "╞═════════╪═════════════════════════════════╪══════════════════════════════╡\n",
       "│ 47      ┆ Seven (a.k.a. Se7en) (1995)     ┆ Mystery|Thriller             │\n",
       "│ 296     ┆ Pulp Fiction (1994)             ┆ Comedy|Crime|Drama|Thriller  │\n",
       "│ 858     ┆ Godfather, The (1972)           ┆ Crime|Drama                  │\n",
       "│ 1221    ┆ Godfather: Part II, The (1974)  ┆ Crime|Drama                  │\n",
       "│ 2023    ┆ Godfather: Part III, The (1990… ┆ Crime|Drama|Mystery|Thriller │\n",
       "└─────────┴─────────────────────────────────┴──────────────────────────────┘"
      ]
     },
     "execution_count": 57,
     "metadata": {},
     "output_type": "execute_result"
    }
   ],
   "source": [
    "df_selection = df_movies.filter(pl.col(\"title\").str.contains(\"Godfather|Dark Knight|Pulp Fiction|Inception|Interstellar|Se7en|The Prestige\"))\n",
    "\n",
    "df_selection.head()"
   ]
  },
  {
   "cell_type": "code",
   "execution_count": 58,
   "metadata": {},
   "outputs": [
    {
     "data": {
      "text/plain": [
       "Embedding(611, 64)"
      ]
     },
     "execution_count": 58,
     "metadata": {},
     "output_type": "execute_result"
    }
   ],
   "source": [
    "collab_nn.user_embeddings"
   ]
  },
  {
   "cell_type": "code",
   "execution_count": 59,
   "metadata": {},
   "outputs": [
    {
     "data": {
      "text/plain": [
       "[43, 257, 659]"
      ]
     },
     "execution_count": 59,
     "metadata": {},
     "output_type": "execute_result"
    }
   ],
   "source": [
    "movie_ids = df_selection[\"movieId\"].to_numpy().tolist()\n",
    "\n",
    "item_ids = list(map(movieId2movieChId.get, movie_ids))[:3]\n",
    "item_ids"
   ]
  },
  {
   "cell_type": "code",
   "execution_count": null,
   "metadata": {},
   "outputs": [],
   "source": []
  },
  {
   "cell_type": "code",
   "execution_count": 60,
   "metadata": {},
   "outputs": [],
   "source": [
    "user_id = 610\n",
    "item_ratings = [4.0, 3.0, 4.0]"
   ]
  },
  {
   "cell_type": "code",
   "execution_count": 61,
   "metadata": {},
   "outputs": [],
   "source": [
    "finetune_user(collab_nn, user_id, item_ids, item_ratings, learning_rate=1e-3, epochs=100)"
   ]
  },
  {
   "cell_type": "code",
   "execution_count": 62,
   "metadata": {},
   "outputs": [],
   "source": [
    "movie_ids = df_movies[\"movieId\"].unique().to_numpy()"
   ]
  },
  {
   "cell_type": "code",
   "execution_count": 63,
   "metadata": {},
   "outputs": [],
   "source": [
    "all_item_ids = list(map(movieId2movieChId.get, movie_ids))\n",
    "all_item_ids = [item_id for item_id in all_item_ids if item_id is not None]"
   ]
  },
  {
   "cell_type": "code",
   "execution_count": 73,
   "metadata": {},
   "outputs": [
    {
     "data": {
      "text/plain": [
       "(array([ 224,  602, 3254,  704, 2717, 7638,  585,  277, 6631, 4075]),\n",
       " array([4.128145 , 4.0935063, 4.0793743, 4.0777736, 4.077164 , 4.05412  ,\n",
       "        4.016326 , 4.0107784, 3.9975376, 3.9751916], dtype=float32))"
      ]
     },
     "execution_count": 73,
     "metadata": {},
     "output_type": "execute_result"
    }
   ],
   "source": [
    "recs_chid, scores = get_recommendations(collab_nn, user_id, all_item_ids, top_k=10)\n",
    "\n",
    "recs_chid.numpy(), scores.numpy()"
   ]
  },
  {
   "cell_type": "code",
   "execution_count": 74,
   "metadata": {},
   "outputs": [
    {
     "data": {
      "text/html": [
       "<div><style>\n",
       ".dataframe > thead > tr,\n",
       ".dataframe > tbody > tr {\n",
       "  text-align: right;\n",
       "  white-space: pre-wrap;\n",
       "}\n",
       "</style>\n",
       "<small>shape: (10, 3)</small><table border=\"1\" class=\"dataframe\"><thead><tr><th>movieId</th><th>title</th><th>genres</th></tr><tr><td>i64</td><td>str</td><td>str</td></tr></thead><tbody><tr><td>260</td><td>&quot;Star Wars: Episode IV - A New …</td><td>&quot;Action|Adventure|Sci-Fi&quot;</td></tr><tr><td>318</td><td>&quot;Shawshank Redemption, The (199…</td><td>&quot;Crime|Drama&quot;</td></tr><tr><td>720</td><td>&quot;Wallace &amp; Gromit: The Best of …</td><td>&quot;Adventure|Animation|Comedy&quot;</td></tr><tr><td>750</td><td>&quot;Dr. Strangelove or: How I Lear…</td><td>&quot;Comedy|War&quot;</td></tr><tr><td>922</td><td>&quot;Sunset Blvd. (a.k.a. Sunset Bo…</td><td>&quot;Drama|Film-Noir|Romance&quot;</td></tr><tr><td>3653</td><td>&quot;Endless Summer, The (1966)&quot;</td><td>&quot;Documentary&quot;</td></tr><tr><td>4406</td><td>&quot;Man Who Shot Liberty Valance, …</td><td>&quot;Crime|Drama|Western&quot;</td></tr><tr><td>5828</td><td>&quot;Blackrock (1997)&quot;</td><td>&quot;Drama|Thriller&quot;</td></tr><tr><td>56782</td><td>&quot;There Will Be Blood (2007)&quot;</td><td>&quot;Drama|Western&quot;</td></tr><tr><td>88448</td><td>&quot;Paper Birds (Pájaros de papel)…</td><td>&quot;Comedy|Drama&quot;</td></tr></tbody></table></div>"
      ],
      "text/plain": [
       "shape: (10, 3)\n",
       "┌─────────┬─────────────────────────────────┬────────────────────────────┐\n",
       "│ movieId ┆ title                           ┆ genres                     │\n",
       "│ ---     ┆ ---                             ┆ ---                        │\n",
       "│ i64     ┆ str                             ┆ str                        │\n",
       "╞═════════╪═════════════════════════════════╪════════════════════════════╡\n",
       "│ 260     ┆ Star Wars: Episode IV - A New … ┆ Action|Adventure|Sci-Fi    │\n",
       "│ 318     ┆ Shawshank Redemption, The (199… ┆ Crime|Drama                │\n",
       "│ 720     ┆ Wallace & Gromit: The Best of … ┆ Adventure|Animation|Comedy │\n",
       "│ 750     ┆ Dr. Strangelove or: How I Lear… ┆ Comedy|War                 │\n",
       "│ 922     ┆ Sunset Blvd. (a.k.a. Sunset Bo… ┆ Drama|Film-Noir|Romance    │\n",
       "│ 3653    ┆ Endless Summer, The (1966)      ┆ Documentary                │\n",
       "│ 4406    ┆ Man Who Shot Liberty Valance, … ┆ Crime|Drama|Western        │\n",
       "│ 5828    ┆ Blackrock (1997)                ┆ Drama|Thriller             │\n",
       "│ 56782   ┆ There Will Be Blood (2007)      ┆ Drama|Western              │\n",
       "│ 88448   ┆ Paper Birds (Pájaros de papel)… ┆ Comedy|Drama               │\n",
       "└─────────┴─────────────────────────────────┴────────────────────────────┘"
      ]
     },
     "execution_count": 74,
     "metadata": {},
     "output_type": "execute_result"
    }
   ],
   "source": [
    "id_recs = list(map(movieChId2movieId.get, recs_chid.numpy()))\n",
    "\n",
    "df_movies.filter(pl.col(\"movieId\").is_in(id_recs))"
   ]
  },
  {
   "cell_type": "code",
   "execution_count": null,
   "metadata": {},
   "outputs": [],
   "source": []
  }
 ],
 "metadata": {
  "kernelspec": {
   "display_name": "adhocs",
   "language": "python",
   "name": "python3"
  },
  "language_info": {
   "codemirror_mode": {
    "name": "ipython",
    "version": 3
   },
   "file_extension": ".py",
   "mimetype": "text/x-python",
   "name": "python",
   "nbconvert_exporter": "python",
   "pygments_lexer": "ipython3",
   "version": "3.12.4"
  }
 },
 "nbformat": 4,
 "nbformat_minor": 2
}
